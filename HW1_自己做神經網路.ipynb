{
 "cells": [
  {
   "cell_type": "markdown",
   "metadata": {},
   "source": [
    "# 讀入套件"
   ]
  },
  {
   "cell_type": "code",
   "execution_count": 1,
   "metadata": {},
   "outputs": [],
   "source": [
    "%matplotlib inline\n",
    "import numpy as np\n",
    "import matplotlib.pyplot as plt\n",
    "import tensorflow as tf\n",
    "from ipywidgets import interact_manual\n",
    "from tensorflow.keras.datasets import fashion_mnist"
   ]
  },
  {
   "cell_type": "markdown",
   "metadata": {},
   "source": [
    "# 資料讀取與資料預處理"
   ]
  },
  {
   "cell_type": "code",
   "execution_count": 2,
   "metadata": {},
   "outputs": [],
   "source": [
    "(x_train,y_train),(x_test,y_test) = fashion_mnist.load_data()"
   ]
  },
  {
   "cell_type": "code",
   "execution_count": 3,
   "metadata": {},
   "outputs": [
    {
     "name": "stdout",
     "output_type": "stream",
     "text": [
      "訓練資料總筆數為 60000 筆資料\n",
      "測試資料總筆數為 10000 筆資料\n"
     ]
    }
   ],
   "source": [
    "print(f'訓練資料總筆數為 {len(x_train)} 筆資料',f'測試資料總筆數為 {len(x_test)} 筆資料',sep='\\n')"
   ]
  },
  {
   "cell_type": "code",
   "execution_count": 4,
   "metadata": {},
   "outputs": [],
   "source": [
    "labelname_dict = {\n",
    "    0:'T-shirt/top',\n",
    "    1:'Trouser',\n",
    "    2:'Pullover',\n",
    "    3:'Dress',\n",
    "    4:'Coat',\n",
    "    5:'Sandal',\n",
    "    6:'Shirt',\n",
    "    7:'Sneaker',\n",
    "    8:'Bag',\n",
    "    9:'Ankle boot'\n",
    "}"
   ]
  },
  {
   "cell_type": "code",
   "execution_count": 5,
   "metadata": {},
   "outputs": [],
   "source": [
    "x_train = x_train/255\n",
    "x_test = x_test/255"
   ]
  },
  {
   "cell_type": "code",
   "execution_count": 6,
   "metadata": {},
   "outputs": [
    {
     "data": {
      "text/plain": [
       "(60000, 28, 28)"
      ]
     },
     "execution_count": 6,
     "metadata": {},
     "output_type": "execute_result"
    }
   ],
   "source": [
    "x_train.shape"
   ]
  },
  {
   "cell_type": "code",
   "execution_count": 7,
   "metadata": {},
   "outputs": [],
   "source": [
    "x_train = x_train.reshape(60000,784)\n",
    "x_test = x_test.reshape(10000,784)"
   ]
  },
  {
   "cell_type": "code",
   "execution_count": 8,
   "metadata": {},
   "outputs": [
    {
     "name": "stdout",
     "output_type": "stream",
     "text": [
      "(60000, 10)\n",
      "(10000, 10)\n"
     ]
    }
   ],
   "source": [
    "from tensorflow.keras.utils import to_categorical\n",
    "y_train = to_categorical(y_train,10)\n",
    "y_test = to_categorical(y_test,10)\n",
    "print(y_train.shape,y_test.shape,sep='\\n')"
   ]
  },
  {
   "cell_type": "markdown",
   "metadata": {},
   "source": [
    "# 開始建立模型"
   ]
  },
  {
   "cell_type": "code",
   "execution_count": 10,
   "metadata": {},
   "outputs": [],
   "source": [
    "from tensorflow.keras.models import Sequential\n",
    "from tensorflow.keras.layers import Dense\n",
    "from tensorflow.keras.optimizers import Adam"
   ]
  },
  {
   "cell_type": "markdown",
   "metadata": {},
   "source": [
    "## 模型隱藏層為4層，神經元個數分別為120、100、75、60\n",
    "## 激勵函數 : relu、sigmoid、tanh"
   ]
  },
  {
   "cell_type": "code",
   "execution_count": 11,
   "metadata": {},
   "outputs": [],
   "source": [
    "model = Sequential()\n",
    "model.add(Dense(120,input_dim=784,activation='relu'))\n",
    "model.add(Dense(100,activation='sigmoid'))\n",
    "model.add(Dense(75,activation='tanh'))\n",
    "model.add(Dense(60,activation='relu'))"
   ]
  },
  {
   "cell_type": "markdown",
   "metadata": {},
   "source": [
    "## 輸出層為10個神經元\n",
    "## 激勵函數 : softmax"
   ]
  },
  {
   "cell_type": "code",
   "execution_count": 12,
   "metadata": {},
   "outputs": [],
   "source": [
    "model.add(Dense(10,activation='softmax'))"
   ]
  },
  {
   "cell_type": "markdown",
   "metadata": {},
   "source": [
    "## 損失函數 : mse\n",
    "## 優化器 : Adam \n",
    "## Adam 優化器之參數設置 : learning_rate=0.001, beta_1=0.9, beta_2=0.999"
   ]
  },
  {
   "cell_type": "code",
   "execution_count": 13,
   "metadata": {},
   "outputs": [],
   "source": [
    "model.compile(loss='mse',optimizer=Adam(learning_rate=0.001, beta_1=0.9, beta_2=0.999, amsgrad=False),metrics=['accuracy'])"
   ]
  },
  {
   "cell_type": "code",
   "execution_count": 14,
   "metadata": {},
   "outputs": [
    {
     "name": "stdout",
     "output_type": "stream",
     "text": [
      "Model: \"sequential\"\n",
      "_________________________________________________________________\n",
      "Layer (type)                 Output Shape              Param #   \n",
      "=================================================================\n",
      "dense (Dense)                (None, 120)               94200     \n",
      "_________________________________________________________________\n",
      "dense_1 (Dense)              (None, 100)               12100     \n",
      "_________________________________________________________________\n",
      "dense_2 (Dense)              (None, 75)                7575      \n",
      "_________________________________________________________________\n",
      "dense_3 (Dense)              (None, 60)                4560      \n",
      "_________________________________________________________________\n",
      "dense_4 (Dense)              (None, 10)                610       \n",
      "=================================================================\n",
      "Total params: 119,045\n",
      "Trainable params: 119,045\n",
      "Non-trainable params: 0\n",
      "_________________________________________________________________\n"
     ]
    }
   ],
   "source": [
    "model.summary()"
   ]
  },
  {
   "cell_type": "markdown",
   "metadata": {},
   "source": [
    "## batch size = 100 ，也就是說一次訓練100筆資料\n",
    "## 訓練次數為 50 次"
   ]
  },
  {
   "cell_type": "code",
   "execution_count": 15,
   "metadata": {},
   "outputs": [
    {
     "name": "stdout",
     "output_type": "stream",
     "text": [
      "Train on 60000 samples\n",
      "Epoch 1/50\n",
      "60000/60000 [==============================] - 5s 87us/sample - loss: 0.0287 - accuracy: 0.7967\n",
      "Epoch 2/50\n",
      "60000/60000 [==============================] - 3s 43us/sample - loss: 0.0203 - accuracy: 0.8591\n",
      "Epoch 3/50\n",
      "60000/60000 [==============================] - 3s 43us/sample - loss: 0.0181 - accuracy: 0.8732\n",
      "Epoch 4/50\n",
      "60000/60000 [==============================] - 2s 41us/sample - loss: 0.0174 - accuracy: 0.8791\n",
      "Epoch 5/50\n",
      "60000/60000 [==============================] - 2s 41us/sample - loss: 0.0164 - accuracy: 0.8872\n",
      "Epoch 6/50\n",
      "60000/60000 [==============================] - 2s 41us/sample - loss: 0.0157 - accuracy: 0.8921\n",
      "Epoch 7/50\n",
      "60000/60000 [==============================] - 2s 41us/sample - loss: 0.0151 - accuracy: 0.8955\n",
      "Epoch 8/50\n",
      "60000/60000 [==============================] - 2s 41us/sample - loss: 0.0148 - accuracy: 0.8984\n",
      "Epoch 9/50\n",
      "60000/60000 [==============================] - 2s 41us/sample - loss: 0.0141 - accuracy: 0.9033\n",
      "Epoch 10/50\n",
      "60000/60000 [==============================] - 3s 44us/sample - loss: 0.0139 - accuracy: 0.9053\n",
      "Epoch 11/50\n",
      "60000/60000 [==============================] - 3s 46us/sample - loss: 0.0134 - accuracy: 0.9092\n",
      "Epoch 12/50\n",
      "60000/60000 [==============================] - 3s 42us/sample - loss: 0.0132 - accuracy: 0.9097\n",
      "Epoch 13/50\n",
      "60000/60000 [==============================] - 2s 41us/sample - loss: 0.0128 - accuracy: 0.9137\n",
      "Epoch 14/50\n",
      "60000/60000 [==============================] - 2s 41us/sample - loss: 0.0126 - accuracy: 0.9140\n",
      "Epoch 15/50\n",
      "60000/60000 [==============================] - 3s 43us/sample - loss: 0.0122 - accuracy: 0.9179\n",
      "Epoch 16/50\n",
      "60000/60000 [==============================] - 3s 42us/sample - loss: 0.0119 - accuracy: 0.9204\n",
      "Epoch 17/50\n",
      "60000/60000 [==============================] - 2s 41us/sample - loss: 0.0118 - accuracy: 0.9206\n",
      "Epoch 18/50\n",
      "60000/60000 [==============================] - 3s 43us/sample - loss: 0.0113 - accuracy: 0.9257\n",
      "Epoch 19/50\n",
      "60000/60000 [==============================] - 2s 41us/sample - loss: 0.0111 - accuracy: 0.9265\n",
      "Epoch 20/50\n",
      "60000/60000 [==============================] - 3s 42us/sample - loss: 0.0109 - accuracy: 0.9263\n",
      "Epoch 21/50\n",
      "60000/60000 [==============================] - 3s 43us/sample - loss: 0.0107 - accuracy: 0.9290\n",
      "Epoch 22/50\n",
      "60000/60000 [==============================] - 3s 43us/sample - loss: 0.0106 - accuracy: 0.9293\n",
      "Epoch 23/50\n",
      "60000/60000 [==============================] - 3s 45us/sample - loss: 0.0104 - accuracy: 0.9309\n",
      "Epoch 24/50\n",
      "60000/60000 [==============================] - 3s 42us/sample - loss: 0.0099 - accuracy: 0.9343\n",
      "Epoch 25/50\n",
      "60000/60000 [==============================] - 3s 44us/sample - loss: 0.0099 - accuracy: 0.9353\n",
      "Epoch 26/50\n",
      "60000/60000 [==============================] - 3s 44us/sample - loss: 0.0096 - accuracy: 0.9377\n",
      "Epoch 27/50\n",
      "60000/60000 [==============================] - 3s 42us/sample - loss: 0.0096 - accuracy: 0.9372\n",
      "Epoch 28/50\n",
      "60000/60000 [==============================] - 2s 41us/sample - loss: 0.0094 - accuracy: 0.9387\n",
      "Epoch 29/50\n",
      "60000/60000 [==============================] - 2s 42us/sample - loss: 0.0093 - accuracy: 0.9393\n",
      "Epoch 30/50\n",
      "60000/60000 [==============================] - 3s 42us/sample - loss: 0.0090 - accuracy: 0.9416\n",
      "Epoch 31/50\n",
      "60000/60000 [==============================] - 3s 44us/sample - loss: 0.0088 - accuracy: 0.9430\n",
      "Epoch 32/50\n",
      "60000/60000 [==============================] - 2s 42us/sample - loss: 0.0087 - accuracy: 0.9437\n",
      "Epoch 33/50\n",
      "60000/60000 [==============================] - 3s 45us/sample - loss: 0.0086 - accuracy: 0.9441\n",
      "Epoch 34/50\n",
      "60000/60000 [==============================] - 3s 42us/sample - loss: 0.0085 - accuracy: 0.9451\n",
      "Epoch 35/50\n",
      "60000/60000 [==============================] - 3s 43us/sample - loss: 0.0082 - accuracy: 0.9469\n",
      "Epoch 36/50\n",
      "60000/60000 [==============================] - 3s 42us/sample - loss: 0.0081 - accuracy: 0.9474\n",
      "Epoch 37/50\n",
      "60000/60000 [==============================] - 3s 43us/sample - loss: 0.0080 - accuracy: 0.9484\n",
      "Epoch 38/50\n",
      "60000/60000 [==============================] - 3s 42us/sample - loss: 0.0078 - accuracy: 0.9494\n",
      "Epoch 39/50\n",
      "60000/60000 [==============================] - 3s 43us/sample - loss: 0.0077 - accuracy: 0.9504\n",
      "Epoch 40/50\n",
      "60000/60000 [==============================] - 3s 43us/sample - loss: 0.0075 - accuracy: 0.9517\n",
      "Epoch 41/50\n",
      "60000/60000 [==============================] - 3s 42us/sample - loss: 0.0075 - accuracy: 0.9525\n",
      "Epoch 42/50\n",
      "60000/60000 [==============================] - 3s 45us/sample - loss: 0.0075 - accuracy: 0.9518\n",
      "Epoch 43/50\n",
      "60000/60000 [==============================] - 3s 44us/sample - loss: 0.0073 - accuracy: 0.9524\n",
      "Epoch 44/50\n",
      "60000/60000 [==============================] - 3s 42us/sample - loss: 0.0071 - accuracy: 0.9546\n",
      "Epoch 45/50\n",
      "60000/60000 [==============================] - 3s 43us/sample - loss: 0.0070 - accuracy: 0.9551\n",
      "Epoch 46/50\n",
      "60000/60000 [==============================] - 3s 45us/sample - loss: 0.0070 - accuracy: 0.9558\n",
      "Epoch 47/50\n",
      "60000/60000 [==============================] - 3s 47us/sample - loss: 0.0070 - accuracy: 0.9553\n",
      "Epoch 48/50\n",
      "60000/60000 [==============================] - 3s 43us/sample - loss: 0.0065 - accuracy: 0.9590\n",
      "Epoch 49/50\n",
      "60000/60000 [==============================] - 3s 43us/sample - loss: 0.0066 - accuracy: 0.9582\n",
      "Epoch 50/50\n",
      "60000/60000 [==============================] - 3s 42us/sample - loss: 0.0065 - accuracy: 0.9593\n"
     ]
    },
    {
     "data": {
      "text/plain": [
       "<tensorflow.python.keras.callbacks.History at 0x2a0b3abfac8>"
      ]
     },
     "execution_count": 15,
     "metadata": {},
     "output_type": "execute_result"
    }
   ],
   "source": [
    "model.fit(x_train,y_train,batch_size=100,epochs=50)"
   ]
  },
  {
   "cell_type": "markdown",
   "metadata": {},
   "source": [
    "## 查看訓練成果"
   ]
  },
  {
   "cell_type": "code",
   "execution_count": 16,
   "metadata": {},
   "outputs": [],
   "source": [
    "result = model.predict_classes(x_test)"
   ]
  },
  {
   "cell_type": "code",
   "execution_count": 17,
   "metadata": {},
   "outputs": [
    {
     "data": {
      "application/vnd.jupyter.widget-view+json": {
       "model_id": "d9dd8ee4a18f41f5a0ee2c577f7fcd1e",
       "version_major": 2,
       "version_minor": 0
      },
      "text/plain": [
       "interactive(children=(IntSlider(value=0, description='測試編號', max=9999), Button(description='Run Interact', sty…"
      ]
     },
     "metadata": {},
     "output_type": "display_data"
    }
   ],
   "source": [
    "def show_xy(測試編號=0):\n",
    "    ax = plt.gca()\n",
    "    X = x_test[測試編號]\n",
    "    plt.xticks([],[])\n",
    "    plt.yticks([],[])\n",
    "    plt.imshow(x_test[測試編號].reshape(28,28),cmap='Greys')\n",
    "    print(f'神經網路預測的答案為: {labelname_dict[result[測試編號]]}')\n",
    "interact_manual(show_xy,測試編號=(0,9999));"
   ]
  },
  {
   "cell_type": "code",
   "execution_count": 18,
   "metadata": {},
   "outputs": [
    {
     "name": "stdout",
     "output_type": "stream",
     "text": [
      "神經網路預測是: Pullover\n"
     ]
    },
    {
     "data": {
      "text/plain": [
       "<matplotlib.image.AxesImage at 0x2a0ae817648>"
      ]
     },
     "execution_count": 18,
     "metadata": {},
     "output_type": "execute_result"
    },
    {
     "data": {
      "image/png": "[encoded data removed]",
      "text/plain": [
       "<Figure size 432x288 with 1 Axes>"
      ]
     },
     "metadata": {
      "needs_background": "light"
     },
     "output_type": "display_data"
    }
   ],
   "source": [
    "n=5000\n",
    "print('神經網路預測是:',labelname_dict[result[n]])\n",
    "plt.imshow(x_test[n].reshape(28,28),cmap='Greys')"
   ]
  },
  {
   "cell_type": "code",
   "execution_count": null,
   "metadata": {},
   "outputs": [],
   "source": []
  }
 ],
 "metadata": {
  "kernelspec": {
   "display_name": "Python 3",
   "language": "python",
   "name": "python3"
  },
  "language_info": {
   "codemirror_mode": {
    "name": "ipython",
    "version": 3
   },
   "file_extension": ".py",
   "mimetype": "text/x-python",
   "name": "python",
   "nbconvert_exporter": "python",
   "pygments_lexer": "ipython3",
   "version": "3.7.4"
  }
 },
 "nbformat": 4,
 "nbformat_minor": 2
}
