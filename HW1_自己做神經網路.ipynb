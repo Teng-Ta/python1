{
 "cells": [
  {
   "cell_type": "markdown",
   "metadata": {},
   "source": [
    "# 類神經網路設計部分:\n",
    "## 隱藏層為 5 層\n",
    "## Learning rate 改為 0.085\n",
    "## batch size 改為 120\n",
    "## 訓練次數增加為 30"
   ]
  },
  {
   "cell_type": "code",
   "execution_count": 1,
   "metadata": {},
   "outputs": [],
   "source": [
    "%matplotlib inline\n",
    "import numpy as np\n",
    "import matplotlib.pyplot as plt\n",
    "import tensorflow as tf\n",
    "from ipywidgets import interact_manual\n",
    "from tensorflow.keras.datasets import fashion_mnist"
   ]
  },
  {
   "cell_type": "code",
   "execution_count": 2,
   "metadata": {},
   "outputs": [
    {
     "name": "stdout",
     "output_type": "stream",
     "text": [
      "Downloading data from https://storage.googleapis.com/tensorflow/tf-keras-datasets/train-labels-idx1-ubyte.gz\n",
      "32768/29515 [=================================] - 0s 2us/step\n",
      "Downloading data from https://storage.googleapis.com/tensorflow/tf-keras-datasets/train-images-idx3-ubyte.gz\n",
      "26427392/26421880 [==============================] - 23s 1us/step\n",
      "Downloading data from https://storage.googleapis.com/tensorflow/tf-keras-datasets/t10k-labels-idx1-ubyte.gz\n",
      "8192/5148 [===============================================] - 0s 0us/step\n",
      "Downloading data from https://storage.googleapis.com/tensorflow/tf-keras-datasets/t10k-images-idx3-ubyte.gz\n",
      "4423680/4422102 [==============================] - 3s 1us/step\n"
     ]
    }
   ],
   "source": [
    "(x_train,y_train),(x_test,y_test) = fashion_mnist.load_data()"
   ]
  },
  {
   "cell_type": "code",
   "execution_count": 3,
   "metadata": {},
   "outputs": [
    {
     "name": "stdout",
     "output_type": "stream",
     "text": [
      "訓練資料總筆數為 60000 筆資料\n",
      "測試資料總筆數為 10000 筆資料\n"
     ]
    }
   ],
   "source": [
    "print(f'訓練資料總筆數為 {len(x_train)} 筆資料',f'測試資料總筆數為 {len(x_test)} 筆資料',sep='\\n')"
   ]
  },
  {
   "cell_type": "code",
   "execution_count": 4,
   "metadata": {},
   "outputs": [],
   "source": [
    "labelname_dict = {\n",
    "    0:'T-shirt/top',\n",
    "    1:'Trouser',\n",
    "    2:'Pullover',\n",
    "    3:'Dress',\n",
    "    4:'Coat',\n",
    "    5:'Sandal',\n",
    "    6:'Shirt',\n",
    "    7:'Sneaker',\n",
    "    8:'Bag',\n",
    "    9:'Ankle boot'\n",
    "}"
   ]
  },
  {
   "cell_type": "code",
   "execution_count": 5,
   "metadata": {},
   "outputs": [],
   "source": [
    "x_train = x_train/255\n",
    "x_test = x_test/255"
   ]
  },
  {
   "cell_type": "code",
   "execution_count": 6,
   "metadata": {},
   "outputs": [
    {
     "data": {
      "text/plain": [
       "(60000, 28, 28)"
      ]
     },
     "execution_count": 6,
     "metadata": {},
     "output_type": "execute_result"
    }
   ],
   "source": [
    "x_train.shape"
   ]
  },
  {
   "cell_type": "code",
   "execution_count": 7,
   "metadata": {},
   "outputs": [],
   "source": [
    "x_train = x_train.reshape(60000,784)\n",
    "x_test = x_test.reshape(10000,784)"
   ]
  },
  {
   "cell_type": "code",
   "execution_count": 8,
   "metadata": {},
   "outputs": [
    {
     "name": "stdout",
     "output_type": "stream",
     "text": [
      "(60000, 10)\n",
      "(10000, 10)\n"
     ]
    }
   ],
   "source": [
    "from tensorflow.keras.utils import to_categorical\n",
    "y_train = to_categorical(y_train,10)\n",
    "y_test = to_categorical(y_test,10)\n",
    "print(y_train.shape,y_test.shape,sep='\\n')"
   ]
  },
  {
   "cell_type": "code",
   "execution_count": 9,
   "metadata": {},
   "outputs": [],
   "source": [
    "from tensorflow.keras.models import Sequential\n",
    "from tensorflow.keras.layers import Dense\n",
    "from tensorflow.keras.optimizers import SGD"
   ]
  },
  {
   "cell_type": "code",
   "execution_count": 18,
   "metadata": {},
   "outputs": [],
   "source": [
    "model = Sequential()\n",
    "model.add(Dense(120,input_dim=784,activation='relu'))\n",
    "model.add(Dense(100,activation='relu'))\n",
    "model.add(Dense(75,activation='relu'))\n",
    "model.add(Dense(60,activation='relu'))\n",
    "model.add(Dense(10,activation='softmax'))\n",
    "model.compile(loss='mse',optimizer=SGD(lr=0.085),metrics=['accuracy'])"
   ]
  },
  {
   "cell_type": "code",
   "execution_count": 19,
   "metadata": {},
   "outputs": [
    {
     "name": "stdout",
     "output_type": "stream",
     "text": [
      "Model: \"sequential_1\"\n",
      "_________________________________________________________________\n",
      "Layer (type)                 Output Shape              Param #   \n",
      "=================================================================\n",
      "dense_4 (Dense)              (None, 120)               94200     \n",
      "_________________________________________________________________\n",
      "dense_5 (Dense)              (None, 100)               12100     \n",
      "_________________________________________________________________\n",
      "dense_6 (Dense)              (None, 75)                7575      \n",
      "_________________________________________________________________\n",
      "dense_7 (Dense)              (None, 60)                4560      \n",
      "_________________________________________________________________\n",
      "dense_8 (Dense)              (None, 10)                610       \n",
      "=================================================================\n",
      "Total params: 119,045\n",
      "Trainable params: 119,045\n",
      "Non-trainable params: 0\n",
      "_________________________________________________________________\n"
     ]
    }
   ],
   "source": [
    "model.summary()"
   ]
  },
  {
   "cell_type": "code",
   "execution_count": 20,
   "metadata": {},
   "outputs": [
    {
     "name": "stdout",
     "output_type": "stream",
     "text": [
      "Train on 60000 samples\n",
      "Epoch 1/30\n",
      "60000/60000 [==============================] - 3s 45us/sample - loss: 0.0864 - accuracy: 0.2733\n",
      "Epoch 2/30\n",
      "60000/60000 [==============================] - 2s 35us/sample - loss: 0.0651 - accuracy: 0.5079\n",
      "Epoch 3/30\n",
      "60000/60000 [==============================] - 2s 36us/sample - loss: 0.0440 - accuracy: 0.6925\n",
      "Epoch 4/30\n",
      "60000/60000 [==============================] - 2s 36us/sample - loss: 0.0366 - accuracy: 0.7556\n",
      "Epoch 5/30\n",
      "60000/60000 [==============================] - 2s 39us/sample - loss: 0.0320 - accuracy: 0.7893\n",
      "Epoch 6/30\n",
      "60000/60000 [==============================] - 2s 39us/sample - loss: 0.0289 - accuracy: 0.8065\n",
      "Epoch 7/30\n",
      "60000/60000 [==============================] - 2s 35us/sample - loss: 0.0271 - accuracy: 0.8171\n",
      "Epoch 8/30\n",
      "60000/60000 [==============================] - 2s 33us/sample - loss: 0.0258 - accuracy: 0.8247\n",
      "Epoch 9/30\n",
      "60000/60000 [==============================] - 2s 36us/sample - loss: 0.0249 - accuracy: 0.8298\n",
      "Epoch 10/30\n",
      "60000/60000 [==============================] - 2s 35us/sample - loss: 0.0243 - accuracy: 0.8337\n",
      "Epoch 11/30\n",
      "60000/60000 [==============================] - 3s 44us/sample - loss: 0.0237 - accuracy: 0.8382\n",
      "Epoch 12/30\n",
      "60000/60000 [==============================] - 2s 37us/sample - loss: 0.0232 - accuracy: 0.8407\n",
      "Epoch 13/30\n",
      "60000/60000 [==============================] - 2s 35us/sample - loss: 0.0229 - accuracy: 0.8437\n",
      "Epoch 14/30\n",
      "60000/60000 [==============================] - 2s 41us/sample - loss: 0.0225 - accuracy: 0.8464\n",
      "Epoch 15/30\n",
      "60000/60000 [==============================] - 2s 38us/sample - loss: 0.0221 - accuracy: 0.8493\n",
      "Epoch 16/30\n",
      "60000/60000 [==============================] - 3s 49us/sample - loss: 0.0218 - accuracy: 0.8518\n",
      "Epoch 17/30\n",
      "60000/60000 [==============================] - 3s 51us/sample - loss: 0.0215 - accuracy: 0.8534\n",
      "Epoch 18/30\n",
      "60000/60000 [==============================] - 2s 36us/sample - loss: 0.0214 - accuracy: 0.8552\n",
      "Epoch 19/30\n",
      "60000/60000 [==============================] - 2s 34us/sample - loss: 0.0210 - accuracy: 0.8569\n",
      "Epoch 20/30\n",
      "60000/60000 [==============================] - 2s 34us/sample - loss: 0.0208 - accuracy: 0.8594\n",
      "Epoch 21/30\n",
      "60000/60000 [==============================] - 2s 37us/sample - loss: 0.0206 - accuracy: 0.8603\n",
      "Epoch 22/30\n",
      "60000/60000 [==============================] - 2s 36us/sample - loss: 0.0204 - accuracy: 0.8623\n",
      "Epoch 23/30\n",
      "60000/60000 [==============================] - 2s 34us/sample - loss: 0.0202 - accuracy: 0.8637\n",
      "Epoch 24/30\n",
      "60000/60000 [==============================] - 2s 36us/sample - loss: 0.0199 - accuracy: 0.8650\n",
      "Epoch 25/30\n",
      "60000/60000 [==============================] - 3s 43us/sample - loss: 0.0197 - accuracy: 0.8667\n",
      "Epoch 26/30\n",
      "60000/60000 [==============================] - 2s 36us/sample - loss: 0.0196 - accuracy: 0.8675\n",
      "Epoch 27/30\n",
      "60000/60000 [==============================] - 3s 42us/sample - loss: 0.0195 - accuracy: 0.8684\n",
      "Epoch 28/30\n",
      "60000/60000 [==============================] - 2s 41us/sample - loss: 0.0193 - accuracy: 0.8698\n",
      "Epoch 29/30\n",
      "60000/60000 [==============================] - 2s 38us/sample - loss: 0.0191 - accuracy: 0.8717\n",
      "Epoch 30/30\n",
      "60000/60000 [==============================] - 2s 38us/sample - loss: 0.0189 - accuracy: 0.8726\n"
     ]
    },
    {
     "data": {
      "text/plain": [
       "<tensorflow.python.keras.callbacks.History at 0x1e79f1a8f08>"
      ]
     },
     "execution_count": 20,
     "metadata": {},
     "output_type": "execute_result"
    }
   ],
   "source": [
    "model.fit(x_train,y_train,batch_size=120,epochs=30)"
   ]
  },
  {
   "cell_type": "code",
   "execution_count": 21,
   "metadata": {},
   "outputs": [],
   "source": [
    "result = model.predict_classes(x_test)"
   ]
  },
  {
   "cell_type": "code",
   "execution_count": 22,
   "metadata": {},
   "outputs": [
    {
     "data": {
      "application/vnd.jupyter.widget-view+json": {
       "model_id": "f462629d7ef443ddb004e4cfc6618a60",
       "version_major": 2,
       "version_minor": 0
      },
      "text/plain": [
       "interactive(children=(IntSlider(value=0, description='測試編號', max=9999), Button(description='Run Interact', sty…"
      ]
     },
     "metadata": {},
     "output_type": "display_data"
    }
   ],
   "source": [
    "def show_xy(測試編號=0):\n",
    "    ax = plt.gca()\n",
    "    X = x_test[測試編號]\n",
    "    plt.xticks([],[])\n",
    "    plt.yticks([],[])\n",
    "    plt.imshow(x_test[測試編號].reshape(28,28),cmap='Greys')\n",
    "    print(f'神經網路預測的答案為: {labelname_dict[result[測試編號]]}')\n",
    "interact_manual(show_xy,測試編號=(0,9999));"
   ]
  },
  {
   "cell_type": "code",
   "execution_count": 23,
   "metadata": {},
   "outputs": [
    {
     "name": "stdout",
     "output_type": "stream",
     "text": [
      "神經網路預測是: Pullover\n"
     ]
    },
    {
     "data": {
      "text/plain": [
       "<matplotlib.image.AxesImage at 0x1e79f5aa308>"
      ]
     },
     "execution_count": 23,
     "metadata": {},
     "output_type": "execute_result"
    },
    {
     "data": {
      "image/png": "[encoded data removed]",
      "text/plain": [
       "<Figure size 432x288 with 1 Axes>"
      ]
     },
     "metadata": {
      "needs_background": "light"
     },
     "output_type": "display_data"
    }
   ],
   "source": [
    "n=5000\n",
    "print('神經網路預測是:',labelname_dict[result[n]])\n",
    "plt.imshow(x_test[n].reshape(28,28),cmap='Greys')"
   ]
  },
  {
   "cell_type": "code",
   "execution_count": null,
   "metadata": {},
   "outputs": [],
   "source": []
  }
 ],
 "metadata": {
  "kernelspec": {
   "display_name": "Python 3",
   "language": "python",
   "name": "python3"
  },
  "language_info": {
   "codemirror_mode": {
    "name": "ipython",
    "version": 3
   },
   "file_extension": ".py",
   "mimetype": "text/x-python",
   "name": "python",
   "nbconvert_exporter": "python",
   "pygments_lexer": "ipython3",
   "version": "3.7.4"
  }
 },
 "nbformat": 4,
 "nbformat_minor": 2
}
