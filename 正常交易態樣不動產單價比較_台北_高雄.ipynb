{
 "cells": [
  {
   "cell_type": "code",
   "execution_count": 4,
   "metadata": {},
   "outputs": [
    {
     "data": {
      "text/plain": [
       "{'whiskers': [<matplotlib.lines.Line2D at 0x1513f0bf808>,\n",
       "  <matplotlib.lines.Line2D at 0x1513f0bf1c8>,\n",
       "  <matplotlib.lines.Line2D at 0x1513be90bc8>,\n",
       "  <matplotlib.lines.Line2D at 0x1513be90d88>],\n",
       " 'caps': [<matplotlib.lines.Line2D at 0x1513f0bf048>,\n",
       "  <matplotlib.lines.Line2D at 0x1513b946048>,\n",
       "  <matplotlib.lines.Line2D at 0x1513c26fac8>,\n",
       "  <matplotlib.lines.Line2D at 0x1513c1db448>],\n",
       " 'boxes': [<matplotlib.lines.Line2D at 0x1513f334788>,\n",
       "  <matplotlib.lines.Line2D at 0x1513c26f048>],\n",
       " 'medians': [<matplotlib.lines.Line2D at 0x1513b9460c8>,\n",
       "  <matplotlib.lines.Line2D at 0x1513b849748>],\n",
       " 'fliers': [],\n",
       " 'means': []}"
      ]
     },
     "execution_count": 4,
     "metadata": {},
     "output_type": "execute_result"
    },
    {
     "data": {
      "image/png": "[encoded data removed]",
      "text/plain": [
       "<Figure size 432x288 with 1 Axes>"
      ]
     },
     "metadata": {
      "needs_background": "light"
     },
     "output_type": "display_data"
    }
   ],
   "source": [
    "%matplotlib inline\n",
    "import numpy as np\n",
    "import matplotlib as mpl\n",
    "import matplotlib.pyplot as plt\n",
    "import pandas as pd\n",
    "import pylab as pl\n",
    "def estimate_price(data):\n",
    "        if data['單價(元/平方公尺)'] == 0:\n",
    "            data['單價(元/平方公尺)'] = data['總價(元)']/data['建物移轉總面積(平方公尺)']\n",
    "        return data\n",
    "county_dict=['高雄市', '台北市']\n",
    "sample_dict={}\n",
    "for county_key in county_dict:\n",
    "    df = pd.read_excel('無價格影響之資料_{}_正常建物.xlsx'.format(county_key))\n",
    "    df = df[~((df['總價(元)'].isin([0]))&(df['單價(元/平方公尺)'].isin([0])))]\n",
    "    df = df.apply(estimate_price,axis=1)\n",
    "    df = df['單價(元/平方公尺)']\n",
    "    if len(df.index)>=10:\n",
    "        sample_dict[county_key]=df\n",
    "data_series=[]\n",
    "for county_key in sample_dict:\n",
    "    data_series.append(sample_dict[county_key])\n",
    "mpl.rcParams['font.sans-serif'] = ['DFKai-SB']\n",
    "mpl.rcParams['font.serif'] = ['DFKai-SB']\n",
    "name = list(sample_dict.keys())\n",
    "plt.boxplot(data_series,1,'',labels=name)"
   ]
  },
  {
   "cell_type": "code",
   "execution_count": null,
   "metadata": {},
   "outputs": [],
   "source": []
  }
 ],
 "metadata": {
  "kernelspec": {
   "display_name": "Python 3",
   "language": "python",
   "name": "python3"
  },
  "language_info": {
   "codemirror_mode": {
    "name": "ipython",
    "version": 3
   },
   "file_extension": ".py",
   "mimetype": "text/x-python",
   "name": "python",
   "nbconvert_exporter": "python",
   "pygments_lexer": "ipython3",
   "version": "3.7.4"
  }
 },
 "nbformat": 4,
 "nbformat_minor": 2
}
