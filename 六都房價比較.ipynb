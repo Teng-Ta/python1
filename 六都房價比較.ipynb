{
 "cells": [
  {
   "cell_type": "code",
   "execution_count": 1,
   "metadata": {},
   "outputs": [
    {
     "ename": "TypeError",
     "evalue": "boxplot() got an unexpected keyword argument 'label'",
     "output_type": "error",
     "traceback": [
      "\u001b[1;31m---------------------------------------------------------------------------\u001b[0m",
      "\u001b[1;31mTypeError\u001b[0m                                 Traceback (most recent call last)",
      "\u001b[1;32m<ipython-input-1-b33d1a87617f>\u001b[0m in \u001b[0;36m<module>\u001b[1;34m\u001b[0m\n\u001b[0;32m     24\u001b[0m \u001b[0mmpl\u001b[0m\u001b[1;33m.\u001b[0m\u001b[0mrcParams\u001b[0m\u001b[1;33m[\u001b[0m\u001b[1;34m'font.serif'\u001b[0m\u001b[1;33m]\u001b[0m \u001b[1;33m=\u001b[0m \u001b[1;33m[\u001b[0m\u001b[1;34m'DFKai-SB'\u001b[0m\u001b[1;33m]\u001b[0m\u001b[1;33m\u001b[0m\u001b[1;33m\u001b[0m\u001b[0m\n\u001b[0;32m     25\u001b[0m \u001b[0mname\u001b[0m \u001b[1;33m=\u001b[0m \u001b[0mlist\u001b[0m\u001b[1;33m(\u001b[0m\u001b[0msample_dict\u001b[0m\u001b[1;33m.\u001b[0m\u001b[0mkeys\u001b[0m\u001b[1;33m(\u001b[0m\u001b[1;33m)\u001b[0m\u001b[1;33m)\u001b[0m\u001b[1;33m\u001b[0m\u001b[1;33m\u001b[0m\u001b[0m\n\u001b[1;32m---> 26\u001b[1;33m \u001b[0mplt\u001b[0m\u001b[1;33m.\u001b[0m\u001b[0mboxplot\u001b[0m\u001b[1;33m(\u001b[0m\u001b[0mdata_series\u001b[0m\u001b[1;33m,\u001b[0m\u001b[1;36m1\u001b[0m\u001b[1;33m,\u001b[0m\u001b[1;34m''\u001b[0m\u001b[1;33m,\u001b[0m\u001b[0mlabel\u001b[0m\u001b[1;33m=\u001b[0m\u001b[0mname\u001b[0m\u001b[1;33m)\u001b[0m\u001b[1;33m\u001b[0m\u001b[1;33m\u001b[0m\u001b[0m\n\u001b[0m\u001b[0;32m     27\u001b[0m \u001b[1;31m##plt.xlabel(name)\u001b[0m\u001b[1;33m\u001b[0m\u001b[1;33m\u001b[0m\u001b[1;33m\u001b[0m\u001b[0m\n\u001b[0;32m     28\u001b[0m \u001b[1;31m#plt.savefig('{}_正常建物.png'.)\u001b[0m\u001b[1;33m\u001b[0m\u001b[1;33m\u001b[0m\u001b[1;33m\u001b[0m\u001b[0m\n",
      "\u001b[1;31mTypeError\u001b[0m: boxplot() got an unexpected keyword argument 'label'"
     ]
    }
   ],
   "source": [
    "%matplotlib inline\n",
    "import numpy as np\n",
    "import matplotlib as mpl\n",
    "import matplotlib.pyplot as plt\n",
    "import pandas as pd\n",
    "import pylab as pl\n",
    "def estimate_price(data):\n",
    "        if data['單價(元/平方公尺)'] == 0:\n",
    "            data['單價(元/平方公尺)'] = data['總價(元)']/data['建物移轉總面積(平方公尺)']\n",
    "        return data\n",
    "county_dict=['新北市', '台中市', '高雄市', '桃園市', '台南市', '台北市']\n",
    "sample_dict={}\n",
    "for county_key in county_dict:\n",
    "    df = pd.read_excel('無價格影響之資料_{}_正常建物.xlsx'.format(county_key))\n",
    "    df = df[~((df['總價(元)'].isin([0]))&(df['單價(元/平方公尺)'].isin([0])))]\n",
    "    df = df.apply(estimate_price,axis=1)\n",
    "    df = df['單價(元/平方公尺)']\n",
    "    if len(df.index)>=10:\n",
    "        sample_dict[county_key]=df\n",
    "data_series=[]\n",
    "for county_key in sample_dict:\n",
    "    data_series.append(sample_dict[county_key])\n",
    "mpl.rcParams['font.sans-serif'] = ['DFKai-SB']\n",
    "mpl.rcParams['font.serif'] = ['DFKai-SB']\n",
    "name = list(sample_dict.keys())\n",
    "plt.boxplot(data_series,1,'',labelwname)"
   ]
  },
  {
   "cell_type": "code",
   "execution_count": 4,
   "metadata": {},
   "outputs": [
    {
     "data": {
      "text/plain": [
       "[0        100036.0\n",
       " 1        105121.0\n",
       " 2         80775.0\n",
       " 3         81026.0\n",
       " 4        163790.0\n",
       "            ...   \n",
       " 58037     60794.0\n",
       " 58038     57773.0\n",
       " 58039     58997.0\n",
       " 58040     55291.0\n",
       " 58041     58187.0\n",
       " Name: 單價(元/平方公尺), Length: 58037, dtype: float64, 0        40993.0\n",
       " 1        37215.0\n",
       " 2        52404.0\n",
       " 3        52558.0\n",
       " 4        45666.0\n",
       "           ...   \n",
       " 33876    51520.0\n",
       " 33877    55004.0\n",
       " 33878    55532.0\n",
       " 33879    57207.0\n",
       " 33880    53209.0\n",
       " Name: 單價(元/平方公尺), Length: 33876, dtype: float64, 0        65116.0\n",
       " 1        55828.0\n",
       " 2        30887.0\n",
       " 3        36720.0\n",
       " 4        21705.0\n",
       "           ...   \n",
       " 31841    21729.0\n",
       " 31842    33718.0\n",
       " 31843    41410.0\n",
       " 31844    54776.0\n",
       " 31845    16287.0\n",
       " Name: 單價(元/平方公尺), Length: 31846, dtype: float64, 0        45218.0\n",
       " 1        46299.0\n",
       " 2        71038.0\n",
       " 3        72337.0\n",
       " 4        75899.0\n",
       "           ...   \n",
       " 33758    47489.0\n",
       " 33759    43442.0\n",
       " 33760    48077.0\n",
       " 33761    47556.0\n",
       " 33762    49271.0\n",
       " Name: 單價(元/平方公尺), Length: 33762, dtype: float64, 0         48294.0\n",
       " 1        115336.0\n",
       " 2         55899.0\n",
       " 3         24714.0\n",
       " 4         49488.0\n",
       "            ...   \n",
       " 13354     40934.0\n",
       " 13355     34251.0\n",
       " 13356     59875.0\n",
       " 13357     46988.0\n",
       " 13358     62079.0\n",
       " Name: 單價(元/平方公尺), Length: 13359, dtype: float64, 0        268677.0\n",
       " 1        176252.0\n",
       " 2        119929.0\n",
       " 3        262085.0\n",
       " 4        236206.0\n",
       "            ...   \n",
       " 25548    242175.0\n",
       " 25549    268212.0\n",
       " 25550    323680.0\n",
       " 25551    307145.0\n",
       " 25552    280813.0\n",
       " Name: 單價(元/平方公尺), Length: 25553, dtype: float64]"
      ]
     },
     "execution_count": 4,
     "metadata": {},
     "output_type": "execute_result"
    }
   ],
   "source": [
    "data_series"
   ]
  },
  {
   "cell_type": "code",
   "execution_count": null,
   "metadata": {},
   "outputs": [],
   "source": []
  }
 ],
 "metadata": {
  "kernelspec": {
   "display_name": "Python 3",
   "language": "python",
   "name": "python3"
  },
  "language_info": {
   "codemirror_mode": {
    "name": "ipython",
    "version": 3
   },
   "file_extension": ".py",
   "mimetype": "text/x-python",
   "name": "python",
   "nbconvert_exporter": "python",
   "pygments_lexer": "ipython3",
   "version": "3.7.4"
  }
 },
 "nbformat": 4,
 "nbformat_minor": 2
}
