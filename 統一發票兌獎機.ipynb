{
 "cells": [
  {
   "cell_type": "code",
   "execution_count": 1,
   "metadata": {},
   "outputs": [
    {
     "name": "stdout",
     "output_type": "stream",
     "text": [
      "特別獎號碼為:91911374\n",
      "特獎號碼為:08501338\n",
      "頭獎號碼1為:57161318\n",
      "頭獎號碼2為:23570653\n",
      "頭獎號碼3為:47332279\n",
      "增開六獎號碼為:519\n",
      "輸入發票號碼：(輸入quit後結束)25045647\n",
      "啊！沒中獎喔！別氣餒，再接再厲！\n",
      "輸入發票號碼：(輸入quit後結束)quit\n"
     ]
    }
   ],
   "source": [
    "prizes_top = []\n",
    "\n",
    "priSpe_1000 = input(\"特別獎號碼為:\")\n",
    "while (priSpe_1000.isdigit() is False):\n",
    "    print('特別獎號碼為8碼阿拉伯數字！')\n",
    "    priSpe_1000 = input(\"特別獎號碼為:\")\n",
    "while (len(priSpe_1000)!= 8):\n",
    "    print('特別獎號碼為8碼阿拉伯數字！')\n",
    "    priSpe_1000 = input(\"特別獎號碼為:\")\n",
    "    \n",
    "priSpe_200 = input(\"特獎號碼為:\")\n",
    "while (priSpe_200.isdigit() is False):\n",
    "    print('特獎號碼為8碼阿拉伯數字！')\n",
    "    priSpe_200 = input(\"特獎號碼為:\")\n",
    "while (len(priSpe_200)!= 8):\n",
    "    print('特獎號碼為8碼阿拉伯數字！')\n",
    "    priSpe_200 = input(\"特獎號碼為:\")\n",
    "    \n",
    "for i in range(3):\n",
    "    pri1 = input(\"頭獎號碼{}為:\".format(i+1))\n",
    "    while (pri1.isdigit() is False):\n",
    "        print('頭獎號碼為8碼阿拉伯數字！')\n",
    "        pri1 = input(\"頭獎號碼{}為:\".format(i+1))\n",
    "    while (len(pri1)!= 8):\n",
    "        print('頭獎號碼{}為8碼阿拉伯數字！'.format(i+1))\n",
    "        pri1 = input(\"頭獎號碼{}為:\".format(i+1))\n",
    "    prizes_top.append(pri1)\n",
    "\n",
    "pri6s = input(\"增開六獎號碼為:\")\n",
    "while (pri6s.isdigit() is False):\n",
    "    print('增開六獎為3碼阿拉伯數字！')\n",
    "    pri6s = input(\"增開六獎號碼為:\")\n",
    "while len(pri6s)!= 3:\n",
    "    print('增開六獎為3碼阿拉伯數字！')\n",
    "    pri6s = input(\"增開六獎號碼為:\")\n",
    "\n",
    "while True:\n",
    "    num = input(\"輸入發票號碼：(輸入quit後結束)\")\n",
    "    if num == 'quit':\n",
    "        break\n",
    "    if (num.isdigit() is False):\n",
    "        print('發票號碼為8碼阿拉伯數字！')\n",
    "        continue\n",
    "    if (len(num)!= 8):\n",
    "        print('發票號碼為8碼阿拉伯數字！')\n",
    "        continue\n",
    "    if num == priSpe_1000[0:8]:\n",
    "        print(\"恭喜你中了特別獎！金額為1000萬元！\")\n",
    "    elif num == priSpe_200[0:8]:\n",
    "        print(\"恭喜你中了特獎！金額為200萬元！\")\n",
    "    elif num[-3:] == pri6s:\n",
    "        print(\"恭喜你中了增開六獎！金額為200元！\")\n",
    "    elif num[-3:] in [i[-3:] for i in prizes_top]:\n",
    "        p = prizes_top[[i[-3:] for i in prizes_top].index(num[-3:])]\n",
    "        if num == p:\n",
    "            print(\"恭喜你中了頭獎！金額為20萬元！\")\n",
    "        elif num[-7:] == p[-7:]:\n",
    "            print(\"恭喜你中了二獎！金額為4萬元！\")\n",
    "        elif num[-6:] == p[-6:]:\n",
    "            print(\"恭喜你中了三獎！金額為1萬元！\")\n",
    "        elif num[-5:] == p[-5:]:\n",
    "            print(\"恭喜你中了四獎！金額為4000元！\")\n",
    "        elif num[-4:] == p[-4:]:\n",
    "            print(\"恭喜你中了五獎！金額為1000元！\")\n",
    "        elif num[-3:] == p[-3:]:\n",
    "            print(\"恭喜你中了六獎！金額為200元！\") \n",
    "    else:\n",
    "        print('啊！沒中獎喔！別氣餒，再接再厲！')"
   ]
  },
  {
   "cell_type": "code",
   "execution_count": null,
   "metadata": {},
   "outputs": [],
   "source": []
  }
 ],
 "metadata": {
  "kernelspec": {
   "display_name": "Python 3",
   "language": "python",
   "name": "python3"
  },
  "language_info": {
   "codemirror_mode": {
    "name": "ipython",
    "version": 3
   },
   "file_extension": ".py",
   "mimetype": "text/x-python",
   "name": "python",
   "nbconvert_exporter": "python",
   "pygments_lexer": "ipython3",
   "version": "3.7.6"
  }
 },
 "nbformat": 4,
 "nbformat_minor": 4
}
